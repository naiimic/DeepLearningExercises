{
 "cells": [
  {
   "cell_type": "code",
   "execution_count": null,
   "id": "70aa6398",
   "metadata": {},
   "outputs": [],
   "source": [
    "# For colab\n",
    "\n",
    "#!pip install dgl-cu100\n",
    "#!pip install --upgrade tables"
   ]
  },
  {
   "cell_type": "code",
   "execution_count": null,
   "id": "174831fd",
   "metadata": {},
   "outputs": [],
   "source": [
    "import dgl\n",
    "import pandas as pd\n",
    "import torch\n",
    "import numpy as np\n",
    "import matplotlib.pyplot as plt\n",
    "import networkx as nx\n",
    "import torch.nn as nn\n",
    "import torch.optim as optim\n",
    "from tqdm.notebook import tqdm\n",
    "import json\n",
    "import glob\n",
    "import torch.nn as nn\n",
    "import torch.optim as optim\n",
    "from tqdm.notebook import tqdm\n",
    "import os"
   ]
  },
  {
   "cell_type": "markdown",
   "id": "e5b86660",
   "metadata": {},
   "source": [
    "## Exercise 3, part 2\n",
    "\n",
    "### Message passing graph networks"
   ]
  },
  {
   "cell_type": "markdown",
   "id": "a43828a8",
   "metadata": {},
   "source": [
    "Goals of this assignment:\n",
    "\n",
    "1. learn to construct a message passing network (learn about DGLs update functions, build edge and node networks)\n",
    "2. learn to train an edge classifier, and a node classifier\n",
    "\n",
    "First, we download the dataset. The dataset is made from random graphs, where two points on the graph have been labeled as the start and end points of a path. \n",
    "\n",
    "<b> The task is to classify the edges of the graph to determine if they are \"part of\" the shortest path between the two nodes. </b>"
   ]
  },
  {
   "cell_type": "code",
   "execution_count": null,
   "id": "916b8786",
   "metadata": {
    "scrolled": true
   },
   "outputs": [],
   "source": [
    "!wget https://www.dropbox.com/s/2s7yhlrdpovyxtk/Dataset.zip"
   ]
  },
  {
   "cell_type": "code",
   "execution_count": null,
   "id": "67c7c965",
   "metadata": {
    "scrolled": true
   },
   "outputs": [],
   "source": [
    "!unzip Dataset.zip"
   ]
  },
  {
   "cell_type": "code",
   "execution_count": null,
   "id": "c16994cf",
   "metadata": {},
   "outputs": [],
   "source": [
    "%load_ext autoreload\n",
    "%autoreload 2"
   ]
  },
  {
   "cell_type": "markdown",
   "id": "66601254",
   "metadata": {},
   "source": [
    "### DataSet\n",
    "\n",
    "It is already build, the following code are here to let you understand how to deal with a directed graph in the future..."
   ]
  },
  {
   "cell_type": "code",
   "execution_count": null,
   "id": "250f243f",
   "metadata": {},
   "outputs": [],
   "source": [
    "path = 'Dataset/training_data/'\n",
    "filelist = glob.glob(path+'/*.json')\n",
    "idx = 18\n",
    "        \n",
    "filelist = filelist[idx:idx+1]\n",
    "\n",
    "for fname in filelist:\n",
    "    with open(fname) as jfile:\n",
    "        \n",
    "        json_data = json.load(jfile)\n",
    "        json_data['directed'] = 'true'\n",
    "        graph = nx.node_link_graph(json_data)\n",
    "        g = dgl.from_networkx(graph, node_attrs=['node_features'],edge_attrs=['distance','on_path'])\n",
    "        \n",
    "plt.rcParams[\"figure.figsize\"] = (3,3)\n",
    "\n",
    "nx.draw(g.to_networkx(), with_labels=True)\n",
    "plt.show()"
   ]
  },
  {
   "cell_type": "code",
   "execution_count": null,
   "id": "c66a2a40",
   "metadata": {},
   "outputs": [],
   "source": [
    "g.edges(), g.edata"
   ]
  },
  {
   "cell_type": "code",
   "execution_count": null,
   "id": "cb676e25",
   "metadata": {},
   "outputs": [],
   "source": [
    "path = 'Dataset/training_data/'\n",
    "filelist = glob.glob(path+'/*.json')\n",
    "idx = 18\n",
    "        \n",
    "filelist = filelist[idx:idx+1]\n",
    "\n",
    "for fname in filelist:\n",
    "    with open(fname) as jfile:\n",
    "        \n",
    "        json_data = json.load(jfile)\n",
    "        json_data['directed'] = 'true'\n",
    "        graph = nx.node_link_graph(json_data)\n",
    "        g = dgl.from_networkx(graph, node_attrs=['node_features'],edge_attrs=['distance','on_path'])\n",
    "\n",
    "        edge_distance = torch.cat([g.edata['distance'],g.edata['distance']],dim=0)\n",
    "        edge_target = torch.cat([g.edata['on_path'],g.edata['on_path']],dim=0)\n",
    "\n",
    "        g.add_edges(g.edges()[1],g.edges()[0])\n",
    "\n",
    "        g.edata['distance'] = edge_distance\n",
    "        g.edata['on_path'] = edge_target.float()\n",
    "\n",
    "        g.update_all(dgl.function.copy_edge('on_path','on_path'),dgl.function.max('on_path','on_path'))\n",
    "        \n",
    "plt.rcParams[\"figure.figsize\"] = (3,3)\n",
    "\n",
    "nx.draw(g.to_networkx(), with_labels=True)\n",
    "plt.show()"
   ]
  },
  {
   "cell_type": "code",
   "execution_count": null,
   "id": "69b4c307",
   "metadata": {},
   "outputs": [],
   "source": [
    "g.edges()"
   ]
  },
  {
   "cell_type": "code",
   "execution_count": null,
   "id": "67c04009",
   "metadata": {},
   "outputs": [],
   "source": [
    "g.ndata, g.edata"
   ]
  },
  {
   "cell_type": "code",
   "execution_count": null,
   "id": "fc59a080",
   "metadata": {},
   "outputs": [],
   "source": [
    "np.where(g.ndata['node_features'].numpy() == [1,0])"
   ]
  },
  {
   "cell_type": "code",
   "execution_count": null,
   "id": "c1b0eee7",
   "metadata": {},
   "outputs": [],
   "source": [
    "from shortest_path_dataloader import ShortestPathDataset, collate_graphs"
   ]
  },
  {
   "cell_type": "code",
   "execution_count": null,
   "id": "19853037",
   "metadata": {},
   "outputs": [],
   "source": [
    "training_dataset = ShortestPathDataset('Dataset/training_data/')\n",
    "validation_dataset = ShortestPathDataset('Dataset/validation_data/')"
   ]
  },
  {
   "cell_type": "markdown",
   "id": "b250d7eb",
   "metadata": {},
   "source": [
    "Everything about the target is store in the graph. You have some nodes, some edges, some nodes features and property called 'on_path' that will be usefull for the training."
   ]
  },
  {
   "cell_type": "code",
   "execution_count": null,
   "id": "58fadc28",
   "metadata": {},
   "outputs": [],
   "source": [
    "g = training_dataset[18]"
   ]
  },
  {
   "cell_type": "code",
   "execution_count": null,
   "id": "bb9e71f8",
   "metadata": {},
   "outputs": [],
   "source": [
    "g"
   ]
  },
  {
   "cell_type": "markdown",
   "id": "668a5e4f",
   "metadata": {},
   "source": [
    "The nodes of the graph have no real \"features\" - the node features mark the starting point (1,0) and ending point (0,1) of our trajectory. "
   ]
  },
  {
   "cell_type": "code",
   "execution_count": null,
   "id": "b48abfe3",
   "metadata": {},
   "outputs": [],
   "source": [
    "g.ndata['node_features']"
   ]
  },
  {
   "cell_type": "markdown",
   "id": "3882b3c7",
   "metadata": {},
   "source": [
    "Each edge has a distance associated with it, and the target for training is also stored on the edge data - saying if the edge is part of the path or not."
   ]
  },
  {
   "cell_type": "code",
   "execution_count": null,
   "id": "6c80dd1a",
   "metadata": {},
   "outputs": [],
   "source": [
    "g.edata['distance']"
   ]
  },
  {
   "cell_type": "code",
   "execution_count": null,
   "id": "6d6bc49a",
   "metadata": {},
   "outputs": [],
   "source": [
    "g.edata['on_path']"
   ]
  },
  {
   "cell_type": "code",
   "execution_count": null,
   "id": "d5fb840a",
   "metadata": {},
   "outputs": [],
   "source": [
    "g.ndata['on_path']"
   ]
  },
  {
   "cell_type": "code",
   "execution_count": null,
   "id": "1c0988b6",
   "metadata": {},
   "outputs": [],
   "source": [
    "#Training example\n",
    "\n",
    "fig,ax = plt.subplots(figsize=(3,3),dpi=150)\n",
    "\n",
    "nx_graph = nx.DiGraph()\n",
    "nx_graph.add_nodes_from(g.nodes().data.numpy())\n",
    "nx_graph.add_edges_from([(es.item(),ee.item()) for es,ee in zip(g.edges()[0],g.edges()[1])])\n",
    "\n",
    "edge_dict = {(s.item(),e.item()) : on_path.item() for s,e,on_path in zip(g.edges()[0],g.edges()[1],\n",
    "                                                                         g.edata['on_path'])}\n",
    "edge_list = [e for i,e in enumerate(nx_graph.edges) if edge_dict[e]>0]\n",
    "\n",
    "pos = nx.spring_layout(nx_graph)\n",
    "\n",
    "nx.draw( nx_graph ,pos=pos ,ax=ax ,node_size=5,arrows=False)\n",
    "nx.draw_networkx_edges(nx_graph,pos=pos,edgelist=edge_list,width=2,edge_color='r',ax=ax,arrows=False)\n",
    "\n",
    "plt.show()"
   ]
  },
  {
   "cell_type": "code",
   "execution_count": null,
   "id": "54f3240d",
   "metadata": {},
   "outputs": [],
   "source": [
    "from torch.utils.data import Dataset, DataLoader\n",
    "\n",
    "data_loader = DataLoader(training_dataset, batch_size=300, shuffle=True,\n",
    "                         collate_fn=collate_graphs)\n",
    "validation_data_loader = DataLoader(validation_dataset, batch_size=300, shuffle=False,\n",
    "                         collate_fn=collate_graphs)"
   ]
  },
  {
   "cell_type": "code",
   "execution_count": null,
   "id": "4b89cc7b",
   "metadata": {},
   "outputs": [],
   "source": [
    "for batched_g in data_loader:\n",
    "    break"
   ]
  },
  {
   "cell_type": "code",
   "execution_count": null,
   "id": "50742520",
   "metadata": {},
   "outputs": [],
   "source": [
    "batched_g"
   ]
  },
  {
   "cell_type": "markdown",
   "id": "eed39658",
   "metadata": {},
   "source": [
    "## The model\n",
    "\n",
    "### Explanation of the structure\n",
    "\n",
    "In order to implement the edge and node updates, we use DGLs \"update_all\" interface.\n",
    "\n",
    "-------------------\n",
    "\n",
    "For details look at the DGL documentation, https://docs.dgl.ai/tutorials/blitz/index.html\n",
    "\n",
    "In model.py you have the basic skeleton. You implement an \"edge network\" and a \"node network\".\n",
    "\n",
    "The edge network will act on all the edges in your graph - it will look at the nodes at the \"src\" and \"dst\" (source and destination) of the edge and apply a fully connected network to it.\n",
    "\n",
    "Then the node network will have access to a \"mailbox\" with all the information sent by the edges connected to each node. You sum that \"mailbox\", add to it the existing node hidden represation, and then apply a fully connected network to update the node represation.\n",
    "\n",
    "After each step of the update, networks take the node and edge represenations and apply a binary classifier to say if its \"on path\" or not.\n",
    "\n",
    "The prediction is added to the previous step prediction, and the final result is compared to the target with BCEWithLogitsLoss, for both nodes and edges.\n",
    "\n",
    "We want to implement the model such that it decorates the nodes and edges of the graph with the prediction (the forward pass of the model doesnt actually return anything).\n",
    "\n",
    "<img src=\"gn_structure.jpeg\" width=\"800\" height=\"400\">\n",
    "<img src=\"gn_iterations.jpeg\" width=\"800\" height=\"400\">"
   ]
  },
  {
   "cell_type": "code",
   "execution_count": null,
   "id": "42a9cceb",
   "metadata": {},
   "outputs": [],
   "source": [
    "from MPNN_model import Classifier"
   ]
  },
  {
   "cell_type": "code",
   "execution_count": null,
   "id": "298467da",
   "metadata": {},
   "outputs": [],
   "source": [
    "net = Classifier()"
   ]
  },
  {
   "cell_type": "code",
   "execution_count": null,
   "id": "7c2c59ca",
   "metadata": {},
   "outputs": [],
   "source": [
    "for batched_g in data_loader:\n",
    "    break"
   ]
  },
  {
   "cell_type": "code",
   "execution_count": null,
   "id": "eef61d7c",
   "metadata": {},
   "outputs": [],
   "source": [
    "net(batched_g)"
   ]
  },
  {
   "cell_type": "code",
   "execution_count": null,
   "id": "a457050d",
   "metadata": {},
   "outputs": [],
   "source": [
    "batched_g.ndata['prediction']"
   ]
  },
  {
   "cell_type": "code",
   "execution_count": null,
   "id": "7f8603b3",
   "metadata": {},
   "outputs": [],
   "source": [
    "batched_g.edata['prediction']"
   ]
  },
  {
   "cell_type": "code",
   "execution_count": null,
   "id": "e6597462",
   "metadata": {},
   "outputs": [],
   "source": [
    "# There are way more nodes not on path, so it's an unbalance classification task\n",
    "\n",
    "fig = plt.figure(figsize=(3,3),dpi=150)\n",
    "h = plt.hist( batched_g.edata['on_path'].data.numpy() ,bins=[-0.5,0.5,1.5])\n",
    "print(h[0])\n",
    "print(h[0][0]/h[0][1])\n",
    "plt.show()"
   ]
  },
  {
   "cell_type": "markdown",
   "id": "f8bc9718",
   "metadata": {},
   "source": [
    "## Training and testing the model\n",
    "\n",
    "We want the edge and node network to reach accuracy above 85%!"
   ]
  },
  {
   "cell_type": "code",
   "execution_count": null,
   "id": "6b140393",
   "metadata": {},
   "outputs": [],
   "source": [
    "loss_func = nn.BCEWithLogitsLoss(pos_weight=torch.tensor(10.0)) # To solve the unbalanced data\n",
    "optimizer = optim.Adam(net.parameters(), lr=0.001) "
   ]
  },
  {
   "cell_type": "code",
   "execution_count": null,
   "id": "8319129f",
   "metadata": {},
   "outputs": [],
   "source": [
    "# We don't want accuracy (Since there are way more 0 than 1). \n",
    "# If you use accuracy it's easy that the network will only predict zeros and not learn the task\n",
    "# We use f1, compute false positive and false negative.. HAVE A LOOK\n",
    "\n",
    "def compute_f1_and_loss(dataloader,net):\n",
    "    \n",
    "    edge_true_pos = 0\n",
    "    edge_false_pos = 0\n",
    "    edge_false_neg = 0\n",
    "    \n",
    "    node_true_pos = 0\n",
    "    node_false_pos = 0\n",
    "    node_false_neg = 0\n",
    "\n",
    "    loss = 0\n",
    "    \n",
    "    if torch.cuda.is_available():\n",
    "        net.cuda()\n",
    "    net.eval()\n",
    "    \n",
    "    n_batches = 0\n",
    "    with torch.no_grad():\n",
    "        for batched_g in dataloader:\n",
    "            n_batches+=1\n",
    "            \n",
    "            if torch.cuda.is_available():\n",
    "                batched_g = batched_g.to(torch.device('cuda'))\n",
    "                \n",
    "            net(batched_g)\n",
    "            \n",
    "            #We extract from the graph\n",
    "            edge_target = batched_g.edata['on_path'] \n",
    "            edge_pred = batched_g.edata['prediction']\n",
    "            \n",
    "            node_target = batched_g.ndata['on_path']\n",
    "            node_pred = batched_g.ndata['prediction']\n",
    "            \n",
    "            loss+= loss_func(edge_pred,edge_target).item()+loss_func(node_pred,node_target).item()\n",
    "            \n",
    "            edge_true_pos+=len(torch.where( (edge_pred>0) & (edge_target==1) )[0])\n",
    "            edge_false_pos+=len(torch.where( (edge_pred>0) & (edge_target==0) )[0])\n",
    "            edge_false_neg+=len(torch.where( (edge_pred<0) & (edge_target==1) )[0])\n",
    "            \n",
    "            node_true_pos+=len(torch.where( (node_pred>0) & (node_target==1) )[0])\n",
    "            node_false_pos+=len(torch.where( (node_pred>0) & (node_target==0) )[0])\n",
    "            node_false_neg+=len(torch.where( (node_pred<0) & (node_target==1) )[0])\n",
    "            \n",
    "    f1_edge = edge_true_pos/(edge_true_pos+0.5*(edge_false_pos+edge_false_neg))\n",
    "    f1_node = node_true_pos/(node_true_pos+0.5*(node_false_pos+node_false_neg))\n",
    "    loss = loss/n_batches      \n",
    "    return f1_edge, f1_node, loss"
   ]
  },
  {
   "cell_type": "code",
   "execution_count": null,
   "id": "5f13c724",
   "metadata": {},
   "outputs": [],
   "source": [
    "if torch.cuda.is_available():\n",
    "    net.cuda()"
   ]
  },
  {
   "cell_type": "code",
   "execution_count": null,
   "id": "4d533fe6",
   "metadata": {},
   "outputs": [],
   "source": [
    "compute_f1_and_loss(validation_data_loader,net)"
   ]
  },
  {
   "cell_type": "code",
   "execution_count": null,
   "id": "d7a7af4f",
   "metadata": {
    "scrolled": true
   },
   "outputs": [],
   "source": [
    "# Run it on colab!!1\n",
    "\n",
    "if torch.cuda.is_available() == True:\n",
    "    n_epochs = 100\n",
    "\n",
    "    training_loss_vs_epoch = []\n",
    "    validation_loss_vs_epoch = []\n",
    "\n",
    "    training_f1_edge_vs_epoch = []\n",
    "    training_f1_node_vs_epoch = []\n",
    "    validation_f1_edge_vs_epoch = []\n",
    "    validation_f1_node_vs_epoch = []\n",
    "\n",
    "    pbar = tqdm( range(n_epochs) )\n",
    "\n",
    "    for epoch in pbar: \n",
    "\n",
    "        if len(validation_loss_vs_epoch) > 1:\n",
    "            pbar.set_description(\n",
    "                  ' val f1 node:'+'{0:.5f}'.format(validation_f1_node_vs_epoch[-1])+\n",
    "                   ' val f1 edge:'+'{0:.5f}'.format(validation_f1_edge_vs_epoch[-1]) )\n",
    "\n",
    "        net.train() # put the net into \"training mode\"\n",
    "        for batched_g in tqdm(data_loader):\n",
    "            if torch.cuda.is_available():\n",
    "                batched_g = batched_g.to(torch.device('cuda'))\n",
    "\n",
    "\n",
    "            optimizer.zero_grad()\n",
    "            net(batched_g)\n",
    "            edge_target = batched_g.edata['on_path']\n",
    "            edge_pred = batched_g.edata['prediction']\n",
    "\n",
    "            node_target = batched_g.ndata['on_path']\n",
    "            node_pred = batched_g.ndata['prediction']\n",
    "\n",
    "            loss = loss_func(edge_pred,edge_target)+loss_func(node_pred,node_target)\n",
    "            loss.backward()\n",
    "            optimizer.step()\n",
    "\n",
    "        net.eval() #put the net into evaluation mode\n",
    "        train_f1_edge, train_f1_node, train_loss = compute_f1_and_loss(data_loader,net)\n",
    "        valid_f1_edge, valid_f1_node, valid_loss =  compute_f1_and_loss(validation_data_loader,net)\n",
    "\n",
    "        training_loss_vs_epoch.append(train_loss)    \n",
    "        training_f1_edge_vs_epoch.append( train_f1_edge )\n",
    "        training_f1_node_vs_epoch.append( train_f1_node )\n",
    "\n",
    "\n",
    "        validation_f1_edge_vs_epoch.append(valid_f1_edge)\n",
    "        validation_f1_node_vs_epoch.append(valid_f1_node)\n",
    "        validation_loss_vs_epoch.append(valid_loss)\n",
    "        if len(validation_loss_vs_epoch)==1 or validation_loss_vs_epoch[-2] > validation_loss_vs_epoch[-1]:\n",
    "            torch.save(net.state_dict(), 'trained_model.pt')"
   ]
  },
  {
   "cell_type": "code",
   "execution_count": null,
   "id": "479dce21",
   "metadata": {},
   "outputs": [],
   "source": [
    "if torch.cuda.is_available() == True:\n",
    "    fig,ax = plt.subplots(1,3,figsize=(8,3))\n",
    "\n",
    "    ax[0].plot(training_loss_vs_epoch,label='training')\n",
    "    ax[0].plot(validation_loss_vs_epoch,label='validation')\n",
    "\n",
    "    ax[1].plot(training_f1_edge_vs_epoch)\n",
    "    ax[1].plot(validation_f1_edge_vs_epoch)\n",
    "\n",
    "    ax[2].plot(training_f1_node_vs_epoch)\n",
    "    ax[2].plot(validation_f1_node_vs_epoch)\n",
    "    plt.show()"
   ]
  },
  {
   "cell_type": "code",
   "execution_count": null,
   "id": "6e293c31",
   "metadata": {},
   "outputs": [],
   "source": [
    "net.load_state_dict(torch.load('trained_model.pt',map_location='cpu'))"
   ]
  },
  {
   "cell_type": "code",
   "execution_count": null,
   "id": "f67d0775",
   "metadata": {},
   "outputs": [],
   "source": [
    "for batched_g in validation_data_loader:\n",
    "    break\n",
    "    \n",
    "net.eval()\n",
    "if torch.cuda.is_available():\n",
    "    net.cuda()\n",
    "    batched_g = batched_g.to(torch.device('cuda'))\n",
    "    \n",
    "net(batched_g)\n",
    "predictions = batched_g.edata['prediction'].cpu().data.numpy()\n",
    "sigmoid_predictions =  torch.sigmoid(batched_g.edata['prediction']).cpu().data.numpy()\n",
    "targets = batched_g.edata['on_path'].cpu().data.numpy()"
   ]
  },
  {
   "cell_type": "code",
   "execution_count": null,
   "id": "780736cf",
   "metadata": {},
   "outputs": [],
   "source": [
    "import numpy as np\n",
    "fig,ax = plt.subplots(1,2,figsize=(7,3))\n",
    "\n",
    "ax[0].hist(sigmoid_predictions[targets==1],histtype='step',bins=np.linspace(0,1,50),density=True)\n",
    "ax[0].hist(sigmoid_predictions[targets==0],histtype='step',bins=np.linspace(0,1,50),density=True)\n",
    "\n",
    "ax[1].hist(predictions[targets==1],histtype='step',bins=50,density=True)\n",
    "ax[1].hist(predictions[targets==0],histtype='step',bins=50,density=True)\n",
    "\n",
    "plt.tight_layout()\n",
    "plt.show()"
   ]
  },
  {
   "cell_type": "code",
   "execution_count": null,
   "id": "5e345385",
   "metadata": {},
   "outputs": [],
   "source": [
    "fig,ax = plt.subplots(1,2,figsize=(6,3),dpi=150)\n",
    "\n",
    "ax[0].set_title('Target')\n",
    "ax[1].set_title('Model Prediction')\n",
    "net.eval()\n",
    "net.cpu()\n",
    "\n",
    "g = validation_dataset[666]\n",
    "net(g)\n",
    "\n",
    "output_pred = torch.sigmoid(g.edata['prediction']).data.numpy()\n",
    "\n",
    "nx_graph = nx.DiGraph()\n",
    "nx_graph.add_nodes_from(g.nodes().data.numpy())\n",
    "nx_graph.add_edges_from([(es.item(),ee.item()) for es,ee in zip(g.edges()[0],g.edges()[1])])\n",
    "\n",
    "edge_dict = {(s.item(),e.item()) : on_path.item() for s,e,on_path in zip(g.edges()[0],g.edges()[1],\n",
    "                                                                         g.edata['on_path'])}\n",
    "\n",
    "edge_prediction_dict = {(s.item(),e.item()) : pred.item() for s,e,pred in zip(g.edges()[0],g.edges()[1],\n",
    "                                                                         output_pred)}\n",
    "\n",
    "edge_list = [e for i,e in enumerate(nx_graph.edges) if edge_dict[e]>0]\n",
    "\n",
    "predicted_edge_list = [e for i,e in enumerate(nx_graph.edges) if edge_prediction_dict[e]>0.5]\n",
    "\n",
    "pos = nx.spring_layout(nx_graph)\n",
    "\n",
    "\n",
    "nx.draw( nx_graph ,pos=pos ,ax=ax[0] ,node_size=5,arrows=False)\n",
    "nx.draw_networkx_edges(nx_graph,pos=pos,edgelist=edge_list,width=2,edge_color='r',ax=ax[0],arrows=False)\n",
    "\n",
    "nx.draw( nx_graph ,pos=pos ,ax=ax[1] ,node_size=5,arrows=False)\n",
    "nx.draw_networkx_edges(nx_graph,pos=pos,edgelist=predicted_edge_list,width=2,edge_color='r',ax=ax[1],arrows=False)\n",
    "\n",
    "plt.show()"
   ]
  },
  {
   "cell_type": "code",
   "execution_count": null,
   "id": "3d7e02f1",
   "metadata": {},
   "outputs": [],
   "source": [
    "from test_part2 import *"
   ]
  },
  {
   "cell_type": "code",
   "execution_count": null,
   "id": "c4e5ff82",
   "metadata": {},
   "outputs": [],
   "source": [
    "test_part2()"
   ]
  },
  {
   "cell_type": "code",
   "execution_count": null,
   "id": "c4bcdf4c",
   "metadata": {},
   "outputs": [],
   "source": []
  }
 ],
 "metadata": {
  "kernelspec": {
   "display_name": "Python 3.8.9 64-bit",
   "language": "python",
   "name": "python3"
  },
  "language_info": {
   "codemirror_mode": {
    "name": "ipython",
    "version": 3
   },
   "file_extension": ".py",
   "mimetype": "text/x-python",
   "name": "python",
   "nbconvert_exporter": "python",
   "pygments_lexer": "ipython3",
   "version": "3.9.16"
  },
  "vscode": {
   "interpreter": {
    "hash": "31f2aee4e71d21fbe5cf8b01ff0e069b9275f58929596ceb00d14d90e3e16cd6"
   }
  }
 },
 "nbformat": 4,
 "nbformat_minor": 5
}
